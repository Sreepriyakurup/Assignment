{
 "cells": [
  {
   "cell_type": "markdown",
   "id": "74962d53",
   "metadata": {},
   "source": [
    "1. What is the primary goal of Object-Oriented Programming (OOP)?\n",
    "\n",
    "Primary goal of Object Oriented Programming (OOP) is reusability and modularity."
   ]
  },
  {
   "cell_type": "markdown",
   "id": "20052bf2",
   "metadata": {},
   "source": [
    "2. What is an object in Python?\n",
    "\n",
    "An object is called an instance of a class.\n"
   ]
  },
  {
   "cell_type": "markdown",
   "id": "3385f6d7",
   "metadata": {},
   "source": [
    "3. What is a class in Python?\n",
    "\n",
    "Class is the blueprint of an object. It contains various attributes and functions. \n",
    "For example car is a class while Honda, Toyota, BMW are objects."
   ]
  },
  {
   "cell_type": "markdown",
   "id": "57b8c569",
   "metadata": {},
   "source": [
    "4. What are attributes and methods in a class?\n",
    "\n",
    "Any variable that is bound in a class is a class attribute. Any function defined within a class is a method."
   ]
  },
  {
   "cell_type": "markdown",
   "id": "2453d376",
   "metadata": {},
   "source": [
    "5. What is the difference between class variables and instance variables in Python?\n",
    "\n",
    "Class variables are defined within the class construction. They are shared by all instances of the class. They therefore will generally have the same value for every instance unless you are using the class variable to initialize a variable. They are defined outside of all the methods.\n",
    "Class variables are typically placed right below the class header and before the constructor method and other methods.\n",
    "\n",
    "Instance variables are owned by instances of the class. For each object or instance of a class, the instance variables are different. Unlike class variables, instance variables are defined within methods."
   ]
  },
  {
   "cell_type": "markdown",
   "id": "707ed781",
   "metadata": {},
   "source": [
    "6. What is the purpose of the self parameter in Python class methods?\n",
    "\n",
    "The self parameter is a reference to the current instance of the class, and is used to access variables that belongs to the class. \n",
    "It does not have to be named self , you can call it whatever you like, but it has to be the first parameter of any function in the class:"
   ]
  },
  {
   "cell_type": "markdown",
   "id": "e49a42e1",
   "metadata": {},
   "source": [
    "7. For a library management system, you have to design the \"Book\" class with OOP\n",
    "principles in mind. The “Book” class will have following attributes:\n",
    "a. title: Represents the title of the book.\n",
    "b. author: Represents the author(s) of the book.\n",
    "c. isbn: Represents the ISBN (International Standard Book Number) of the book.\n",
    "d. publication_year: Represents the year of publication of the book.\n",
    "e. available_copies: Represents the number of copies available for checkout.\n",
    "The class will also include the following methods:\n",
    "a. check_out(self): Decrements the available copies by one if there are copies\n",
    "available for checkout.\n",
    "b. return_book(self): Increments the available copies by one when a book is\n",
    "returned.\n",
    "c. display_book_info(self): Displays the information about the book, including its\n",
    "attributes and the number of available copies."
   ]
  },
  {
   "cell_type": "markdown",
   "id": "1bad058d",
   "metadata": {},
   "source": [
    "class Book:\n",
    "    def __init__(self,title,author,isbn,publication_year,available_copies):\n",
    "        self.title=title\n",
    "        self.author=author\n",
    "        self.isbn=isbn\n",
    "        self.publication_year=publication_year\n",
    "        self.available_copies=available_copies\n",
    "        \n",
    "    def check_out(self):\n",
    "        self.available_copies = self.available_copies - 1\n",
    "        return self.available_copies \n",
    "        \n",
    "    \n",
    "    def return_book(self):\n",
    "        self.available_copies = self.available_copies + 1\n",
    "        return self.available_copies\n",
    "    \n",
    "    def display_book_info(self):\n",
    "        print(\"Title =\", self.title)\n",
    "        print(\"Author =\", self.author)\n",
    "        print(\"ISBN =\", self.isbn)\n",
    "        print(\"Publication Year =\", self.publication_year)\n",
    "        print(\"Available Copies =\", self.available_copies)\n",
    "        \n",
    "book=Book(\"abc\",\"xyz\",\"1234\",1981,5)\n",
    "\n",
    "print(\"Available copies after checking out: \",book.check_out())\n",
    "print(\"Available copies after returning book: \",book.return_book())\n",
    "book.display_book_info()\n",
    "        \n",
    "        \n",
    "        "
   ]
  },
  {
   "cell_type": "markdown",
   "id": "d9632e6f",
   "metadata": {},
   "source": [
    "Available copies after checking out:  4\n",
    "Available copies after returning book:  5\n",
    "Title = abc\n",
    "Author = xyz\n",
    "ISBN = 1234\n",
    "Publication Year = 1981\n",
    "Available Copies = 5"
   ]
  },
  {
   "cell_type": "markdown",
   "id": "f22d3775",
   "metadata": {},
   "source": [
    "8. For a ticket booking system, you have to design the \"Ticket\" class with OOP\n",
    "principles in mind. The “Ticket” class should have the following attributes:\n",
    "a. ticket_id: Represents the unique identifier for the ticket.\n",
    "b. event_name: Represents the name of the event.\n",
    "c. event_date: Represents the date of the event.\n",
    "d. venue: Represents the venue of the event.\n",
    "e. seat_number: Represents the seat number associated with the ticket.\n",
    "f. price: Represents the price of the ticket.\n",
    "g. is_reserved: Represents the reservation status of the ticket.\n",
    "The class also includes the following methods:\n",
    "a. reserve_ticket(self): Marks the ticket as reserved if it is not already reserved.\n",
    "b. cancel_reservation(self): Cancels the reservation of the ticket if it is already\n",
    "reserved.\n",
    "c. display_ticket_info(self): Displays the information about the ticket, including its\n",
    "attributes and reservation status."
   ]
  },
  {
   "cell_type": "markdown",
   "id": "9d79b6a9",
   "metadata": {},
   "source": [
    "class Ticket:\n",
    "    def __init__(self, ticket_id, event_name, event_date, venue, seat_number, price, is_reserved):\n",
    "        self.ticket_id = ticket_id\n",
    "        self.event_name=event_name\n",
    "        self.event_date=event_date\n",
    "        self.venue=venue\n",
    "        self.seat_number=seat_number\n",
    "        self.price=price\n",
    "        self.is_reserved=is_reserved\n",
    "        \n",
    "    def reserve_ticket(self):\n",
    "        self.is_reserved=1\n",
    "        return self.is_reserved\n",
    "    \n",
    "    def cancel_reservation(self):\n",
    "        if self.is_reserved == 1:\n",
    "            self.is_reserved=0\n",
    "        return self.is_reserved\n",
    "    \n",
    "    def display_ticket_info(self):\n",
    "        print(\"Ticket ID = \",self.ticket_id)\n",
    "        print(\"Event Name = \",self.event_name)\n",
    "        print(\"Event Date = \",self.event_date)\n",
    "        print(\"Venue = \",self.venue)\n",
    "        print(\"Seat Number = \",self.seat_number)\n",
    "        print(\"Price = \",self.price)\n",
    "        print(\"Reserved = \",self.is_reserved)\n",
    "        \n",
    "    \n",
    "ticket=Ticket (1234, \"circus\", \"22.06.2023\", \"Whitefield\", 345, 200, 1)\n",
    "ticket.display_ticket_info()\n",
    "\n",
    "print(\"Ticket is cancelled: \", ticket.cancel_reservation())\n",
    "ticket.display_ticket_info()\n",
    "\n",
    "print(\"Ticket is reserved: \", ticket.reserve_ticket())\n",
    "ticket.display_ticket_info()\n"
   ]
  },
  {
   "cell_type": "markdown",
   "id": "d09a4c93",
   "metadata": {},
   "source": [
    "Ticket ID =  1234\n",
    "Event Name =  circus\n",
    "Event Date =  22.06.2023\n",
    "Venue =  Whitefield\n",
    "Seat Number =  345\n",
    "Price =  200\n",
    "Reserved =  1\n",
    "Ticket is cancelled:  0\n",
    "Ticket ID =  1234\n",
    "Event Name =  circus\n",
    "Event Date =  22.06.2023\n",
    "Venue =  Whitefield\n",
    "Seat Number =  345\n",
    "Price =  200\n",
    "Reserved =  0\n",
    "Ticket is reserved:  1\n",
    "Ticket ID =  1234\n",
    "Event Name =  circus\n",
    "Event Date =  22.06.2023\n",
    "Venue =  Whitefield\n",
    "Seat Number =  345\n",
    "Price =  200\n",
    "Reserved =  1"
   ]
  },
  {
   "cell_type": "markdown",
   "id": "c4d08db5",
   "metadata": {},
   "source": [
    "9. You are creating a shopping cart for an e-commerce website. Using OOP to model\n",
    "the \"ShoppingCart\" functionality the class should contain following attributes and\n",
    "methods:\n",
    "a. items: Represents the list of items in the shopping cart.\n",
    "The class also includes the following methods:\n",
    "a. add_item(self, item): Adds an item to the shopping cart by appending it to the\n",
    "list of items.\n",
    "b. remove_item(self, item): Removes an item from the shopping cart if it exists in\n",
    "the list.\n",
    "c. view_cart(self): Displays the items currently present in the shopping cart.\n",
    "d. clear_cart(self): Clears all items from the shopping cart by reassigning an\n",
    "empty list to the items attribute."
   ]
  },
  {
   "cell_type": "markdown",
   "id": "9cbdcd5a",
   "metadata": {},
   "source": [
    "class ShoppingCart:\n",
    "    def __init__(self,items):\n",
    "        self.items = [items]\n",
    "        \n",
    "    def add_item(self,item):        \n",
    "        return self.items.append(item)\n",
    "    def remove_item(self,item):        \n",
    "        return self.items.remove(item)\n",
    "    def view_cart(self):\n",
    "        print(\"Items: \", self.items)\n",
    "    def clear_cart(self):\n",
    "        self.items.clear()\n",
    "        \n",
    "shopping_cart = ShoppingCart(\"Candy\")\n",
    "\n",
    "shopping_cart.add_item(\"Biscuit\")\n",
    "shopping_cart.add_item(\"Maggi\")\n",
    "shopping_cart.view_cart()\n",
    "\n",
    "shopping_cart.remove_item(\"Candy\")\n",
    "shopping_cart.view_cart()\n",
    "\n",
    "shopping_cart.clear_cart()\n",
    "shopping_cart.view_cart()\n"
   ]
  },
  {
   "cell_type": "markdown",
   "id": "230e505a",
   "metadata": {},
   "source": [
    "Items:  ['Candy', 'Biscuit', 'Maggi']\n",
    "Items:  ['Biscuit', 'Maggi']\n",
    "Items:  []"
   ]
  },
  {
   "cell_type": "markdown",
   "id": "06a32ce9",
   "metadata": {},
   "source": [
    "10. Imagine a school management system. You have to design the \"Student\" class using\n",
    "OOP concepts.The “Student” class has the following attributes:\n",
    "a. name: Represents the name of the student.\n",
    "b. age: Represents the age of the student.\n",
    "c. grade: Represents the grade or class of the student.\n",
    "d. student_id: Represents the unique identifier for the student.\n",
    "e. attendance: Represents the attendance record of the student.\n",
    "The class should also include the following methods:\n",
    "a. update_attendance(self, date, status): Updates the attendance record of the\n",
    "student for a given date with the provided status (e.g., present or absent).\n",
    "b. get_attendance(self): Returns the attendance record of the student.\n",
    "c. get_average_attendance(self): Calculates and returns the average\n",
    "attendance percentage of the student based on their attendance record."
   ]
  },
  {
   "cell_type": "markdown",
   "id": "d1f0b1fc",
   "metadata": {},
   "source": [
    "class Student:\n",
    "    total_no_of_classes=0\n",
    "    \n",
    "    def __init__(self, name, age, grade, student_id, attendance):\n",
    "        self.name=name\n",
    "        self.age=age\n",
    "        self.grade=grade\n",
    "        self.student_id=student_id\n",
    "        self.attendance=attendance\n",
    "         \n",
    "        Student.total_no_of_classes = Student.total_no_of_classes + self.attendance + 1   \n",
    "        print(\"Total No. of Classes\", Student.total_no_of_classes)\n",
    "                       \n",
    "    def update_attendance(self,date,status):\n",
    "          \n",
    "        if status == \"PRESENT\" :\n",
    "            print(\"%s PRESENT\" % date)\n",
    "            self.attendance = self.attendance + 1\n",
    "            return self.attendance\n",
    "        else :\n",
    "            print(\"%s ABSENT\" % date)   \n",
    "    \n",
    "        \n",
    "    def get_attendance(self):\n",
    "        return self.attendance\n",
    "    \n",
    "        \n",
    "    def get_average_attendance(self):\n",
    "        avg_attendance = self.attendance /Student.total_no_of_classes\n",
    "        attendance_percentage = avg_attendance * 100\n",
    "        return attendance_percentage\n",
    "\n",
    "student = Student(\"sree\",12,6,1234,10)\n",
    "\n",
    "student.update_attendance(\"21.06.2023\", \"ABSENT\")\n",
    "print(\"Attendance\",student.get_attendance())\n",
    "print(\"Percentage Attendance\", student.get_average_attendance())\n",
    "        "
   ]
  },
  {
   "cell_type": "markdown",
   "id": "097ad40f",
   "metadata": {},
   "source": [
    "Total No. of Classes 11\n",
    "21.06.2023 ABSENT\n",
    "Attendance 10\n",
    "Percentage Attendance 90.9090909090909"
   ]
  }
 ],
 "metadata": {
  "kernelspec": {
   "display_name": "Python 3 (ipykernel)",
   "language": "python",
   "name": "python3"
  },
  "language_info": {
   "codemirror_mode": {
    "name": "ipython",
    "version": 3
   },
   "file_extension": ".py",
   "mimetype": "text/x-python",
   "name": "python",
   "nbconvert_exporter": "python",
   "pygments_lexer": "ipython3",
   "version": "3.10.9"
  }
 },
 "nbformat": 4,
 "nbformat_minor": 5
}
