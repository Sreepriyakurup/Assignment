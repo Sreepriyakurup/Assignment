{
 "cells": [
  {
   "cell_type": "markdown",
   "id": "5a524808",
   "metadata": {},
   "source": [
    "1. Explain what inheritance is in object-oriented programming and why it is used.\n",
    "\n",
    "In object-oriented programming (OOP), inheritance is a mechanism that allows a class to inherit properties and behaviors from another class. It is a fundamental concept in OOP that promotes code reuse and establishes relationships between classes."
   ]
  },
  {
   "cell_type": "markdown",
   "id": "e7babb69",
   "metadata": {},
   "source": [
    "2. Discuss the concept of single inheritance and multiple inheritance, highlighting their\n",
    "differences and advantages.\n",
    "\n",
    "Single inheritance is a type of inheritance that enables a derived class to inherit attributes and methods from a single parent class while multiple inheritance is a type of inheritance that enables a derived class to inherit attributes and methods from more than one parent class.\n",
    "\n",
    "Single inheritance requires small run time as compared to multiple inheritance due to less overhead.\n",
    "Multiple inheritance can be a useful programming concept that allows for code re usability, flexibility, and better organization. However, it also has some disadvantages, including increased complexity,"
   ]
  },
  {
   "cell_type": "markdown",
   "id": "8dc17827",
   "metadata": {},
   "source": [
    "3. Explain the terms \"base class\" and \"derived class\" in the context of inheritance.\n",
    "\n",
    "The class whose members are inherited is called the base class. The class that inherits the members of the base class is called the derived class."
   ]
  },
  {
   "cell_type": "markdown",
   "id": "43e1dea3",
   "metadata": {},
   "source": [
    "4. What is the significance of the \"protected\" access modifier in inheritance? How does\n",
    "it differ from \"private\" and \"public\" modifiers?\n",
    "\n",
    "The members of a class that are declared protected are only accessible to a class derived from it. Data members of a class are declared protected by adding a single underscore '_' symbol before the data member of that class.\n",
    "\n",
    "The members of a class that are declared private are accessible within the class only, private access modifier is the most secure access modifier. Data members of a class are declared private by adding a double underscore '__' symbol before the data member of that class.\n",
    "\n",
    "The members of a class that are declared public are easily accessible from any part of the program. All data members and member functions of a class are public by default."
   ]
  },
  {
   "cell_type": "markdown",
   "id": "7d36f2af",
   "metadata": {},
   "source": [
    "5. What is the purpose of the \"super\" keyword in inheritance? Provide an example.\n",
    "\n",
    "The super() is used to give access to methods and properties of a parent.\n"
   ]
  },
  {
   "cell_type": "markdown",
   "id": "b49bd45c",
   "metadata": {},
   "source": [
    "class Animal:\n",
    "    def __init__(self,name):\n",
    "        self.name=name\n",
    "        \n",
    "    def sound(self):\n",
    "        pass\n",
    "    \n",
    "class Cat(Animal):\n",
    "    def __init__(self,name):\n",
    "        super().__init__(name)                  \n",
    "        \n",
    "    \n",
    "    def sound_made(self):\n",
    "        print(f\"{self.name} makes sound Meow Meow!!!\")\n",
    "        \n",
    "cat = Cat(\"Pussy\")\n",
    "cat.sound_made()\n",
    "        \n",
    "    \n",
    "        "
   ]
  },
  {
   "cell_type": "markdown",
   "id": "c0579387",
   "metadata": {},
   "source": [
    "Pussy makes sound Meow Meow!!!"
   ]
  },
  {
   "cell_type": "markdown",
   "id": "7627814a",
   "metadata": {},
   "source": [
    "6. Create a base class called \"Vehicle\" with attributes like \"make\", \"model\", and \"year\".\n",
    "Then, create a derived class called \"Car\" that inherits from \"Vehicle\" and adds an\n",
    "attribute called \"fuel_type\". Implement appropriate methods in both classes."
   ]
  },
  {
   "cell_type": "markdown",
   "id": "a46cffa0",
   "metadata": {},
   "source": [
    "class Vehicle:\n",
    "    def __init__(self,make,model,year):\n",
    "        self.make=make\n",
    "        self.model=model\n",
    "        self.year=year\n",
    "        \n",
    "    def display_info(self):\n",
    "        print(f\"The make is {self.make}, model is {self.model} and year is {self.year}.\")\n",
    "        \n",
    "class Car (Vehicle):\n",
    "    def __init_(self,make,model,year,fuel_type):\n",
    "        super().__init__(make,model,year)    \n",
    "        self.fuel_type=fuel_type\n",
    "        \n",
    "    def displaydetails(self):\n",
    "        super().display_info()\n",
    "        \n",
    "car=Car('Honda CRV', 'EXL', 2022)\n",
    "car.displaydetails()\n",
    "    \n",
    "    "
   ]
  },
  {
   "cell_type": "markdown",
   "id": "86bd4a62",
   "metadata": {},
   "source": [
    "The make is Honda CRV, model is EXL and year is 2022."
   ]
  },
  {
   "cell_type": "markdown",
   "id": "a45925ae",
   "metadata": {},
   "source": [
    "7. Create a base class called \"Employee\" with attributes like \"name\" and \"salary.\"\n",
    "Derive two classes, \"Manager\" and \"Developer,\" from \"Employee.\" Add an additional\n",
    "attribute called \"department\" for the \"Manager\" class and \"programming_language\"\n",
    "for the \"Developer\" class."
   ]
  },
  {
   "cell_type": "markdown",
   "id": "4b53dfb0",
   "metadata": {},
   "source": [
    "class Employee:\n",
    "    def __init__(self,name,salary):\n",
    "        self.name=name\n",
    "        self.salary=salary\n",
    "    \n",
    "    def display_info(self):\n",
    "        print(f\"{self.name} is an employee in abc company and has a salary of {self.salary}.\")\n",
    "        \n",
    "class Manager(Employee):\n",
    "    def __init__(self,name,salary,department):\n",
    "        super().__init__(name,salary)\n",
    "        self.department=department\n",
    "        \n",
    "    def displayinfo(self):\n",
    "        super().display_info()\n",
    "        print(f\"{self.name} is working in {self.department} department.\")\n",
    "        \n",
    "class Developer(Employee):\n",
    "    def __init__(self,name,salary,programming_language):\n",
    "        super().__init__(name,salary)\n",
    "        self.programming_language=programming_language\n",
    "        \n",
    "    def displaydetails(self):\n",
    "        super().display_info()\n",
    "        print(f\"{self.name} has mastered {self.programming_language} programming language.\")\n",
    "        \n",
    "\n",
    "manager=Manager(\"Sree\",100000000,\"Offering\")\n",
    "manager.displayinfo()\n",
    "\n",
    "developer = Developer(\"Priya\", 20000000, \"Python\")\n",
    "developer.displaydetails()     \n",
    "   \n",
    "\n",
    "    "
   ]
  },
  {
   "cell_type": "code",
   "execution_count": null,
   "id": "818abb68",
   "metadata": {},
   "outputs": [],
   "source": [
    "Sree is an employee in abc company and has a salary of 100000000.\n",
    "Sree is working in Offering department.\n",
    "Priya is an employee in abc company and has a salary of 20000000.\n",
    "Priya has mastered Python programming language."
   ]
  },
  {
   "cell_type": "markdown",
   "id": "13dfaca0",
   "metadata": {},
   "source": [
    "8. Design a base class called \"Shape\" with attributes like \"colour\" and \"border_width.\"\n",
    "Create derived classes, \"Rectangle\" and \"Circle,\" that inherit from \"Shape\" and add\n",
    "specific attributes like \"length\" and \"width\" for the \"Rectangle\" class and \"radius\" for\n",
    "the \"Circle\" class."
   ]
  },
  {
   "cell_type": "markdown",
   "id": "7998eacd",
   "metadata": {},
   "source": [
    "class Shape:\n",
    "    def __init__(self,colour,border_width):\n",
    "        self.colour=colour\n",
    "        self.border_width=border_width\n",
    "     \n",
    "           \n",
    "class Rectangle(Shape):\n",
    "    def __init__(self,colour,border_width,length,width):\n",
    "        super().__init__(colour,border_width)\n",
    "        self.length=length\n",
    "        self.width=width\n",
    "        \n",
    "    def display_details(self):\n",
    "        print(f\"The length and width of the rectangle is {self.length} and {self.width} respectively.The colour of the boundary is {self.colour} and its border width is {self.border_width}.\")\n",
    "        \n",
    "class Circle(Shape):\n",
    "    def __init__(self,colour,border_width,radius):\n",
    "        super().__init__(colour,border_width)\n",
    "        self.radius=radius\n",
    "        \n",
    "    def displaydetails(self):\n",
    "        print(f\"The radius of the circle is {self.radius}. The colour of the boundary is {self.colour} and its border width is {self.border_width}.\")\n",
    "        \n",
    "rectangle=Rectangle('red','1.2mm', '4cm', '2cm')\n",
    "rectangle.display_details()\n",
    "\n",
    "circle=Circle('blue','1.4mm', '5cm')\n",
    "circle.displaydetails()\n",
    "\n",
    "        "
   ]
  },
  {
   "cell_type": "markdown",
   "id": "12479d85",
   "metadata": {},
   "source": [
    "The length and width of the rectangle is 4cm and 2cm respectively.The colour of the boundary is red and its border width is 1.2mm.\n",
    "The radius of the circle is 5cm. The colour of the boundary is blue and its border width is 1.4mm."
   ]
  },
  {
   "cell_type": "markdown",
   "id": "26c04a43",
   "metadata": {},
   "source": [
    "9. Create a base class called \"Device\" with attributes like \"brand\" and \"model.\" Derive\n",
    "two classes, \"Phone\" and \"Tablet,\" from \"Device.\" Add specific attributes like\n",
    "\"screen_size\" for the \"Phone\" class and \"battery_capacity\" for the \"Tablet\" class."
   ]
  },
  {
   "cell_type": "markdown",
   "id": "aae28ffc",
   "metadata": {},
   "source": [
    "class Device:\n",
    "    def __init__(self,brand,model):\n",
    "        self.brand=brand\n",
    "        self.model=model\n",
    "        \n",
    "class Phone(Device):\n",
    "    def __init__(self,brand,model,screen_size):\n",
    "        super().__init__(brand,model)\n",
    "        self.screen_size=screen_size\n",
    "        \n",
    "    def display_info(self):\n",
    "        print(f\"Phone info: {self.brand}, {self.model}, {self.screen_size}\")\n",
    "        \n",
    "class Tablet(Device):\n",
    "    def __init__(self,brand,model,battery_capacity):\n",
    "        super().__init__(brand,model)\n",
    "        self.battery_capacity=battery_capacity\n",
    "        \n",
    "    def displaydetails(self):\n",
    "        print(f\"Tablet info: {self.brand}, {self.model}, {self.battery_capacity}\")\n",
    "        \n",
    "phone=Phone(\"Samsung\",\"Galaxy M31\", \"6.4 inch\")\n",
    "phone.display_info()\n",
    "\n",
    "tablet=Tablet(\"Apple\",\"ipad\",\"8600mAh\")\n",
    "tablet.displaydetails()\n",
    "        \n",
    "        \n",
    "           "
   ]
  },
  {
   "cell_type": "markdown",
   "id": "b511c852",
   "metadata": {},
   "source": [
    "Phone info: Samsung, Galaxy M31, 6.4 inch\n",
    "Tablet info: Apple, ipad, 8600mAh"
   ]
  },
  {
   "cell_type": "markdown",
   "id": "a7b79d78",
   "metadata": {},
   "source": [
    "10. Create a base class called \"BankAccount\" with attributes like \"account_number\" and\n",
    "\"balance.\" Derive two classes, \"SavingsAccount\" and \"CheckingAccount,\" from\n",
    "\"BankAccount.\" Add specific methods like \"calculate_interest\" for the\n",
    "\"SavingsAccount\" class and \"deduct_fees\" for the \"CheckingAccount\" class."
   ]
  },
  {
   "cell_type": "markdown",
   "id": "7c55e484",
   "metadata": {},
   "source": [
    "class BankAccount:\n",
    "    def __init__(self,account_number,balance):\n",
    "        self.account_number=account_number\n",
    "        self.balance=balance\n",
    "        \n",
    "class SavingsAccount(BankAccount):\n",
    "    def __init__(self,account_number, balance, interest_rate,time_period):\n",
    "        super().__init__(account_number,balance)\n",
    "        self.interest_rate=interest_rate\n",
    "        self.time_period=time_period\n",
    "        \n",
    "    def calculate_interest(self):\n",
    "        self.interest=self.balance * self.interest_rate* self.time_period\n",
    "        print(f\"Interest for {self.account_number} account number having a balance of Rs.{self.balance} and {self.interest_rate} interest rate for a period of {self.time_period} year is Rs.{self.interest}.\")\n",
    "       \n",
    "class CheckingAccount(BankAccount):\n",
    "    def __init__(self,account_number,balance):\n",
    "        super().__init__(account_number,balance)\n",
    "        \n",
    "    def deduct_fees(self):\n",
    "        if self.balance < 5000:\n",
    "            self.balance = self.balance - 100\n",
    "            print(f\"Amount after deduction due to low balance amount is Rs.{self.balance}.\")\n",
    "        else:\n",
    "            print(f\"Your current balance is Rs.{self.balance}\")\n",
    "    \n",
    "    \n",
    "Savings_account=SavingsAccount(\"1234567HDFC\",8999,0.04,1)\n",
    "Savings_account.calculate_interest()\n",
    "\n",
    "Checking_account=CheckingAccount(\"1234567HDFC\",4999)\n",
    "Checking_account.deduct_fees()\n",
    "\n",
    "        \n",
    "                 "
   ]
  },
  {
   "cell_type": "markdown",
   "id": "212280ed",
   "metadata": {},
   "source": [
    "Interest for 1234567HDFC account number having a balance of Rs.8999 and 0.04 interest rate for a period of 1 year is Rs.359.96.\n",
    "Amount after deduction due to low balance amount is Rs.4899."
   ]
  }
 ],
 "metadata": {
  "kernelspec": {
   "display_name": "Python 3 (ipykernel)",
   "language": "python",
   "name": "python3"
  },
  "language_info": {
   "codemirror_mode": {
    "name": "ipython",
    "version": 3
   },
   "file_extension": ".py",
   "mimetype": "text/x-python",
   "name": "python",
   "nbconvert_exporter": "python",
   "pygments_lexer": "ipython3",
   "version": "3.10.9"
  }
 },
 "nbformat": 4,
 "nbformat_minor": 5
}
